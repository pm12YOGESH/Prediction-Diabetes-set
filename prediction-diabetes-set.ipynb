{
 "cells": [
  {
   "cell_type": "code",
   "execution_count": 1,
   "id": "a078e3d5",
   "metadata": {
    "_cell_guid": "b1076dfc-b9ad-4769-8c92-a6c4dae69d19",
    "_uuid": "8f2839f25d086af736a60e9eeb907d3b93b6e0e5",
    "execution": {
     "iopub.execute_input": "2022-09-05T15:38:58.640402Z",
     "iopub.status.busy": "2022-09-05T15:38:58.639891Z",
     "iopub.status.idle": "2022-09-05T15:38:58.661862Z",
     "shell.execute_reply": "2022-09-05T15:38:58.660633Z"
    },
    "papermill": {
     "duration": 0.034536,
     "end_time": "2022-09-05T15:38:58.665516",
     "exception": false,
     "start_time": "2022-09-05T15:38:58.630980",
     "status": "completed"
    },
    "tags": []
   },
   "outputs": [
    {
     "name": "stdout",
     "output_type": "stream",
     "text": [
      "/kaggle/input/diabetes-data-set/diabetes.csv\n"
     ]
    }
   ],
   "source": [
    "# This Python 3 environment comes with many helpful analytics libraries installed\n",
    "# It is defined by the kaggle/python Docker image: https://github.com/kaggle/docker-python\n",
    "# For example, here's several helpful packages to load\n",
    "\n",
    "import numpy as np # linear algebra\n",
    "import pandas as pd # data processing, CSV file I/O (e.g. pd.read_csv)\n",
    "\n",
    "# Input data files are available in the read-only \"../input/\" directory\n",
    "# For example, running this (by clicking run or pressing Shift+Enter) will list all files under the input directory\n",
    "\n",
    "import os\n",
    "for dirname, _, filenames in os.walk('/kaggle/input'):\n",
    "    for filename in filenames:\n",
    "        print(os.path.join(dirname, filename))\n",
    "\n",
    "# You can write up to 20GB to the current directory (/kaggle/working/) that gets preserved as output when you create a version using \"Save & Run All\" \n",
    "# You can also write temporary files to /kaggle/temp/, but they won't be saved outside of the current session"
   ]
  },
  {
   "cell_type": "code",
   "execution_count": 2,
   "id": "7dc1c419",
   "metadata": {
    "execution": {
     "iopub.execute_input": "2022-09-05T15:38:58.685664Z",
     "iopub.status.busy": "2022-09-05T15:38:58.684829Z",
     "iopub.status.idle": "2022-09-05T15:38:59.804334Z",
     "shell.execute_reply": "2022-09-05T15:38:59.803171Z"
    },
    "papermill": {
     "duration": 1.132786,
     "end_time": "2022-09-05T15:38:59.807300",
     "exception": false,
     "start_time": "2022-09-05T15:38:58.674514",
     "status": "completed"
    },
    "tags": []
   },
   "outputs": [],
   "source": [
    "import pandas as pd\n",
    "import numpy as np\n",
    "from sklearn.preprocessing import StandardScaler\n",
    "from sklearn.model_selection import train_test_split\n",
    "from sklearn import svm\n",
    "from sklearn.metrics import accuracy_score"
   ]
  },
  {
   "cell_type": "code",
   "execution_count": 3,
   "id": "36bc9a93",
   "metadata": {
    "execution": {
     "iopub.execute_input": "2022-09-05T15:38:59.820788Z",
     "iopub.status.busy": "2022-09-05T15:38:59.819757Z",
     "iopub.status.idle": "2022-09-05T15:38:59.857520Z",
     "shell.execute_reply": "2022-09-05T15:38:59.856163Z"
    },
    "papermill": {
     "duration": 0.047138,
     "end_time": "2022-09-05T15:38:59.860177",
     "exception": false,
     "start_time": "2022-09-05T15:38:59.813039",
     "status": "completed"
    },
    "tags": []
   },
   "outputs": [
    {
     "data": {
      "text/html": [
       "<div>\n",
       "<style scoped>\n",
       "    .dataframe tbody tr th:only-of-type {\n",
       "        vertical-align: middle;\n",
       "    }\n",
       "\n",
       "    .dataframe tbody tr th {\n",
       "        vertical-align: top;\n",
       "    }\n",
       "\n",
       "    .dataframe thead th {\n",
       "        text-align: right;\n",
       "    }\n",
       "</style>\n",
       "<table border=\"1\" class=\"dataframe\">\n",
       "  <thead>\n",
       "    <tr style=\"text-align: right;\">\n",
       "      <th></th>\n",
       "      <th>Pregnancies</th>\n",
       "      <th>Glucose</th>\n",
       "      <th>BloodPressure</th>\n",
       "      <th>SkinThickness</th>\n",
       "      <th>Insulin</th>\n",
       "      <th>BMI</th>\n",
       "      <th>DiabetesPedigreeFunction</th>\n",
       "      <th>Age</th>\n",
       "      <th>Outcome</th>\n",
       "    </tr>\n",
       "  </thead>\n",
       "  <tbody>\n",
       "    <tr>\n",
       "      <th>0</th>\n",
       "      <td>6</td>\n",
       "      <td>148</td>\n",
       "      <td>72</td>\n",
       "      <td>35</td>\n",
       "      <td>0</td>\n",
       "      <td>33.6</td>\n",
       "      <td>0.627</td>\n",
       "      <td>50</td>\n",
       "      <td>1</td>\n",
       "    </tr>\n",
       "    <tr>\n",
       "      <th>1</th>\n",
       "      <td>1</td>\n",
       "      <td>85</td>\n",
       "      <td>66</td>\n",
       "      <td>29</td>\n",
       "      <td>0</td>\n",
       "      <td>26.6</td>\n",
       "      <td>0.351</td>\n",
       "      <td>31</td>\n",
       "      <td>0</td>\n",
       "    </tr>\n",
       "    <tr>\n",
       "      <th>2</th>\n",
       "      <td>8</td>\n",
       "      <td>183</td>\n",
       "      <td>64</td>\n",
       "      <td>0</td>\n",
       "      <td>0</td>\n",
       "      <td>23.3</td>\n",
       "      <td>0.672</td>\n",
       "      <td>32</td>\n",
       "      <td>1</td>\n",
       "    </tr>\n",
       "    <tr>\n",
       "      <th>3</th>\n",
       "      <td>1</td>\n",
       "      <td>89</td>\n",
       "      <td>66</td>\n",
       "      <td>23</td>\n",
       "      <td>94</td>\n",
       "      <td>28.1</td>\n",
       "      <td>0.167</td>\n",
       "      <td>21</td>\n",
       "      <td>0</td>\n",
       "    </tr>\n",
       "    <tr>\n",
       "      <th>4</th>\n",
       "      <td>0</td>\n",
       "      <td>137</td>\n",
       "      <td>40</td>\n",
       "      <td>35</td>\n",
       "      <td>168</td>\n",
       "      <td>43.1</td>\n",
       "      <td>2.288</td>\n",
       "      <td>33</td>\n",
       "      <td>1</td>\n",
       "    </tr>\n",
       "  </tbody>\n",
       "</table>\n",
       "</div>"
      ],
      "text/plain": [
       "   Pregnancies  Glucose  BloodPressure  SkinThickness  Insulin   BMI  \\\n",
       "0            6      148             72             35        0  33.6   \n",
       "1            1       85             66             29        0  26.6   \n",
       "2            8      183             64              0        0  23.3   \n",
       "3            1       89             66             23       94  28.1   \n",
       "4            0      137             40             35      168  43.1   \n",
       "\n",
       "   DiabetesPedigreeFunction  Age  Outcome  \n",
       "0                     0.627   50        1  \n",
       "1                     0.351   31        0  \n",
       "2                     0.672   32        1  \n",
       "3                     0.167   21        0  \n",
       "4                     2.288   33        1  "
      ]
     },
     "execution_count": 3,
     "metadata": {},
     "output_type": "execute_result"
    }
   ],
   "source": [
    "diabetes_data=pd.read_csv('/kaggle/input/diabetes-data-set/diabetes.csv')\n",
    "diabetes_data.head()"
   ]
  },
  {
   "cell_type": "code",
   "execution_count": 4,
   "id": "2a729545",
   "metadata": {
    "execution": {
     "iopub.execute_input": "2022-09-05T15:38:59.874800Z",
     "iopub.status.busy": "2022-09-05T15:38:59.873712Z",
     "iopub.status.idle": "2022-09-05T15:38:59.880084Z",
     "shell.execute_reply": "2022-09-05T15:38:59.879296Z"
    },
    "papermill": {
     "duration": 0.015886,
     "end_time": "2022-09-05T15:38:59.882347",
     "exception": false,
     "start_time": "2022-09-05T15:38:59.866461",
     "status": "completed"
    },
    "tags": []
   },
   "outputs": [
    {
     "data": {
      "text/plain": [
       "(768, 9)"
      ]
     },
     "execution_count": 4,
     "metadata": {},
     "output_type": "execute_result"
    }
   ],
   "source": [
    "diabetes_data.shape"
   ]
  },
  {
   "cell_type": "code",
   "execution_count": 5,
   "id": "576d66df",
   "metadata": {
    "execution": {
     "iopub.execute_input": "2022-09-05T15:38:59.896932Z",
     "iopub.status.busy": "2022-09-05T15:38:59.896337Z",
     "iopub.status.idle": "2022-09-05T15:38:59.944272Z",
     "shell.execute_reply": "2022-09-05T15:38:59.943042Z"
    },
    "papermill": {
     "duration": 0.058272,
     "end_time": "2022-09-05T15:38:59.946879",
     "exception": false,
     "start_time": "2022-09-05T15:38:59.888607",
     "status": "completed"
    },
    "tags": []
   },
   "outputs": [
    {
     "data": {
      "text/html": [
       "<div>\n",
       "<style scoped>\n",
       "    .dataframe tbody tr th:only-of-type {\n",
       "        vertical-align: middle;\n",
       "    }\n",
       "\n",
       "    .dataframe tbody tr th {\n",
       "        vertical-align: top;\n",
       "    }\n",
       "\n",
       "    .dataframe thead th {\n",
       "        text-align: right;\n",
       "    }\n",
       "</style>\n",
       "<table border=\"1\" class=\"dataframe\">\n",
       "  <thead>\n",
       "    <tr style=\"text-align: right;\">\n",
       "      <th></th>\n",
       "      <th>Pregnancies</th>\n",
       "      <th>Glucose</th>\n",
       "      <th>BloodPressure</th>\n",
       "      <th>SkinThickness</th>\n",
       "      <th>Insulin</th>\n",
       "      <th>BMI</th>\n",
       "      <th>DiabetesPedigreeFunction</th>\n",
       "      <th>Age</th>\n",
       "      <th>Outcome</th>\n",
       "    </tr>\n",
       "  </thead>\n",
       "  <tbody>\n",
       "    <tr>\n",
       "      <th>count</th>\n",
       "      <td>768.000000</td>\n",
       "      <td>768.000000</td>\n",
       "      <td>768.000000</td>\n",
       "      <td>768.000000</td>\n",
       "      <td>768.000000</td>\n",
       "      <td>768.000000</td>\n",
       "      <td>768.000000</td>\n",
       "      <td>768.000000</td>\n",
       "      <td>768.000000</td>\n",
       "    </tr>\n",
       "    <tr>\n",
       "      <th>mean</th>\n",
       "      <td>3.845052</td>\n",
       "      <td>120.894531</td>\n",
       "      <td>69.105469</td>\n",
       "      <td>20.536458</td>\n",
       "      <td>79.799479</td>\n",
       "      <td>31.992578</td>\n",
       "      <td>0.471876</td>\n",
       "      <td>33.240885</td>\n",
       "      <td>0.348958</td>\n",
       "    </tr>\n",
       "    <tr>\n",
       "      <th>std</th>\n",
       "      <td>3.369578</td>\n",
       "      <td>31.972618</td>\n",
       "      <td>19.355807</td>\n",
       "      <td>15.952218</td>\n",
       "      <td>115.244002</td>\n",
       "      <td>7.884160</td>\n",
       "      <td>0.331329</td>\n",
       "      <td>11.760232</td>\n",
       "      <td>0.476951</td>\n",
       "    </tr>\n",
       "    <tr>\n",
       "      <th>min</th>\n",
       "      <td>0.000000</td>\n",
       "      <td>0.000000</td>\n",
       "      <td>0.000000</td>\n",
       "      <td>0.000000</td>\n",
       "      <td>0.000000</td>\n",
       "      <td>0.000000</td>\n",
       "      <td>0.078000</td>\n",
       "      <td>21.000000</td>\n",
       "      <td>0.000000</td>\n",
       "    </tr>\n",
       "    <tr>\n",
       "      <th>25%</th>\n",
       "      <td>1.000000</td>\n",
       "      <td>99.000000</td>\n",
       "      <td>62.000000</td>\n",
       "      <td>0.000000</td>\n",
       "      <td>0.000000</td>\n",
       "      <td>27.300000</td>\n",
       "      <td>0.243750</td>\n",
       "      <td>24.000000</td>\n",
       "      <td>0.000000</td>\n",
       "    </tr>\n",
       "    <tr>\n",
       "      <th>50%</th>\n",
       "      <td>3.000000</td>\n",
       "      <td>117.000000</td>\n",
       "      <td>72.000000</td>\n",
       "      <td>23.000000</td>\n",
       "      <td>30.500000</td>\n",
       "      <td>32.000000</td>\n",
       "      <td>0.372500</td>\n",
       "      <td>29.000000</td>\n",
       "      <td>0.000000</td>\n",
       "    </tr>\n",
       "    <tr>\n",
       "      <th>75%</th>\n",
       "      <td>6.000000</td>\n",
       "      <td>140.250000</td>\n",
       "      <td>80.000000</td>\n",
       "      <td>32.000000</td>\n",
       "      <td>127.250000</td>\n",
       "      <td>36.600000</td>\n",
       "      <td>0.626250</td>\n",
       "      <td>41.000000</td>\n",
       "      <td>1.000000</td>\n",
       "    </tr>\n",
       "    <tr>\n",
       "      <th>max</th>\n",
       "      <td>17.000000</td>\n",
       "      <td>199.000000</td>\n",
       "      <td>122.000000</td>\n",
       "      <td>99.000000</td>\n",
       "      <td>846.000000</td>\n",
       "      <td>67.100000</td>\n",
       "      <td>2.420000</td>\n",
       "      <td>81.000000</td>\n",
       "      <td>1.000000</td>\n",
       "    </tr>\n",
       "  </tbody>\n",
       "</table>\n",
       "</div>"
      ],
      "text/plain": [
       "       Pregnancies     Glucose  BloodPressure  SkinThickness     Insulin  \\\n",
       "count   768.000000  768.000000     768.000000     768.000000  768.000000   \n",
       "mean      3.845052  120.894531      69.105469      20.536458   79.799479   \n",
       "std       3.369578   31.972618      19.355807      15.952218  115.244002   \n",
       "min       0.000000    0.000000       0.000000       0.000000    0.000000   \n",
       "25%       1.000000   99.000000      62.000000       0.000000    0.000000   \n",
       "50%       3.000000  117.000000      72.000000      23.000000   30.500000   \n",
       "75%       6.000000  140.250000      80.000000      32.000000  127.250000   \n",
       "max      17.000000  199.000000     122.000000      99.000000  846.000000   \n",
       "\n",
       "              BMI  DiabetesPedigreeFunction         Age     Outcome  \n",
       "count  768.000000                768.000000  768.000000  768.000000  \n",
       "mean    31.992578                  0.471876   33.240885    0.348958  \n",
       "std      7.884160                  0.331329   11.760232    0.476951  \n",
       "min      0.000000                  0.078000   21.000000    0.000000  \n",
       "25%     27.300000                  0.243750   24.000000    0.000000  \n",
       "50%     32.000000                  0.372500   29.000000    0.000000  \n",
       "75%     36.600000                  0.626250   41.000000    1.000000  \n",
       "max     67.100000                  2.420000   81.000000    1.000000  "
      ]
     },
     "execution_count": 5,
     "metadata": {},
     "output_type": "execute_result"
    }
   ],
   "source": [
    "diabetes_data.describe()"
   ]
  },
  {
   "cell_type": "code",
   "execution_count": 6,
   "id": "2362d688",
   "metadata": {
    "execution": {
     "iopub.execute_input": "2022-09-05T15:38:59.961468Z",
     "iopub.status.busy": "2022-09-05T15:38:59.961025Z",
     "iopub.status.idle": "2022-09-05T15:38:59.969920Z",
     "shell.execute_reply": "2022-09-05T15:38:59.968779Z"
    },
    "papermill": {
     "duration": 0.018907,
     "end_time": "2022-09-05T15:38:59.972156",
     "exception": false,
     "start_time": "2022-09-05T15:38:59.953249",
     "status": "completed"
    },
    "tags": []
   },
   "outputs": [
    {
     "data": {
      "text/plain": [
       "0    500\n",
       "1    268\n",
       "Name: Outcome, dtype: int64"
      ]
     },
     "execution_count": 6,
     "metadata": {},
     "output_type": "execute_result"
    }
   ],
   "source": [
    "diabetes_data['Outcome'].value_counts()"
   ]
  },
  {
   "cell_type": "code",
   "execution_count": 7,
   "id": "aed7afc6",
   "metadata": {
    "execution": {
     "iopub.execute_input": "2022-09-05T15:38:59.986878Z",
     "iopub.status.busy": "2022-09-05T15:38:59.986235Z",
     "iopub.status.idle": "2022-09-05T15:39:00.004327Z",
     "shell.execute_reply": "2022-09-05T15:39:00.003344Z"
    },
    "papermill": {
     "duration": 0.028269,
     "end_time": "2022-09-05T15:39:00.006729",
     "exception": false,
     "start_time": "2022-09-05T15:38:59.978460",
     "status": "completed"
    },
    "tags": []
   },
   "outputs": [
    {
     "data": {
      "text/html": [
       "<div>\n",
       "<style scoped>\n",
       "    .dataframe tbody tr th:only-of-type {\n",
       "        vertical-align: middle;\n",
       "    }\n",
       "\n",
       "    .dataframe tbody tr th {\n",
       "        vertical-align: top;\n",
       "    }\n",
       "\n",
       "    .dataframe thead th {\n",
       "        text-align: right;\n",
       "    }\n",
       "</style>\n",
       "<table border=\"1\" class=\"dataframe\">\n",
       "  <thead>\n",
       "    <tr style=\"text-align: right;\">\n",
       "      <th></th>\n",
       "      <th>Pregnancies</th>\n",
       "      <th>Glucose</th>\n",
       "      <th>BloodPressure</th>\n",
       "      <th>SkinThickness</th>\n",
       "      <th>Insulin</th>\n",
       "      <th>BMI</th>\n",
       "      <th>DiabetesPedigreeFunction</th>\n",
       "      <th>Age</th>\n",
       "    </tr>\n",
       "    <tr>\n",
       "      <th>Outcome</th>\n",
       "      <th></th>\n",
       "      <th></th>\n",
       "      <th></th>\n",
       "      <th></th>\n",
       "      <th></th>\n",
       "      <th></th>\n",
       "      <th></th>\n",
       "      <th></th>\n",
       "    </tr>\n",
       "  </thead>\n",
       "  <tbody>\n",
       "    <tr>\n",
       "      <th>0</th>\n",
       "      <td>3.298000</td>\n",
       "      <td>109.980000</td>\n",
       "      <td>68.184000</td>\n",
       "      <td>19.664000</td>\n",
       "      <td>68.792000</td>\n",
       "      <td>30.304200</td>\n",
       "      <td>0.429734</td>\n",
       "      <td>31.190000</td>\n",
       "    </tr>\n",
       "    <tr>\n",
       "      <th>1</th>\n",
       "      <td>4.865672</td>\n",
       "      <td>141.257463</td>\n",
       "      <td>70.824627</td>\n",
       "      <td>22.164179</td>\n",
       "      <td>100.335821</td>\n",
       "      <td>35.142537</td>\n",
       "      <td>0.550500</td>\n",
       "      <td>37.067164</td>\n",
       "    </tr>\n",
       "  </tbody>\n",
       "</table>\n",
       "</div>"
      ],
      "text/plain": [
       "         Pregnancies     Glucose  BloodPressure  SkinThickness     Insulin  \\\n",
       "Outcome                                                                      \n",
       "0           3.298000  109.980000      68.184000      19.664000   68.792000   \n",
       "1           4.865672  141.257463      70.824627      22.164179  100.335821   \n",
       "\n",
       "               BMI  DiabetesPedigreeFunction        Age  \n",
       "Outcome                                                  \n",
       "0        30.304200                  0.429734  31.190000  \n",
       "1        35.142537                  0.550500  37.067164  "
      ]
     },
     "execution_count": 7,
     "metadata": {},
     "output_type": "execute_result"
    }
   ],
   "source": [
    "diabetes_data.groupby('Outcome').mean()"
   ]
  },
  {
   "cell_type": "code",
   "execution_count": 8,
   "id": "ea226b3e",
   "metadata": {
    "execution": {
     "iopub.execute_input": "2022-09-05T15:39:00.022300Z",
     "iopub.status.busy": "2022-09-05T15:39:00.021596Z",
     "iopub.status.idle": "2022-09-05T15:39:00.027053Z",
     "shell.execute_reply": "2022-09-05T15:39:00.026192Z"
    },
    "papermill": {
     "duration": 0.01573,
     "end_time": "2022-09-05T15:39:00.029229",
     "exception": false,
     "start_time": "2022-09-05T15:39:00.013499",
     "status": "completed"
    },
    "tags": []
   },
   "outputs": [],
   "source": [
    "X=diabetes_data.drop(columns='Outcome',axis=1)\n",
    "Y=diabetes_data['Outcome']"
   ]
  },
  {
   "cell_type": "code",
   "execution_count": 9,
   "id": "930a0c30",
   "metadata": {
    "execution": {
     "iopub.execute_input": "2022-09-05T15:39:00.044217Z",
     "iopub.status.busy": "2022-09-05T15:39:00.043786Z",
     "iopub.status.idle": "2022-09-05T15:39:00.057552Z",
     "shell.execute_reply": "2022-09-05T15:39:00.056230Z"
    },
    "papermill": {
     "duration": 0.024071,
     "end_time": "2022-09-05T15:39:00.059908",
     "exception": false,
     "start_time": "2022-09-05T15:39:00.035837",
     "status": "completed"
    },
    "tags": []
   },
   "outputs": [
    {
     "name": "stdout",
     "output_type": "stream",
     "text": [
      "     Pregnancies  Glucose  BloodPressure  SkinThickness  Insulin   BMI  \\\n",
      "0              6      148             72             35        0  33.6   \n",
      "1              1       85             66             29        0  26.6   \n",
      "2              8      183             64              0        0  23.3   \n",
      "3              1       89             66             23       94  28.1   \n",
      "4              0      137             40             35      168  43.1   \n",
      "..           ...      ...            ...            ...      ...   ...   \n",
      "763           10      101             76             48      180  32.9   \n",
      "764            2      122             70             27        0  36.8   \n",
      "765            5      121             72             23      112  26.2   \n",
      "766            1      126             60              0        0  30.1   \n",
      "767            1       93             70             31        0  30.4   \n",
      "\n",
      "     DiabetesPedigreeFunction  Age  \n",
      "0                       0.627   50  \n",
      "1                       0.351   31  \n",
      "2                       0.672   32  \n",
      "3                       0.167   21  \n",
      "4                       2.288   33  \n",
      "..                        ...  ...  \n",
      "763                     0.171   63  \n",
      "764                     0.340   27  \n",
      "765                     0.245   30  \n",
      "766                     0.349   47  \n",
      "767                     0.315   23  \n",
      "\n",
      "[768 rows x 8 columns]\n",
      "0      1\n",
      "1      0\n",
      "2      1\n",
      "3      0\n",
      "4      1\n",
      "      ..\n",
      "763    0\n",
      "764    0\n",
      "765    0\n",
      "766    1\n",
      "767    0\n",
      "Name: Outcome, Length: 768, dtype: int64\n"
     ]
    }
   ],
   "source": [
    "print(X)\n",
    "print(Y)"
   ]
  },
  {
   "cell_type": "code",
   "execution_count": 10,
   "id": "09765bf3",
   "metadata": {
    "execution": {
     "iopub.execute_input": "2022-09-05T15:39:00.076040Z",
     "iopub.status.busy": "2022-09-05T15:39:00.075647Z",
     "iopub.status.idle": "2022-09-05T15:39:00.086760Z",
     "shell.execute_reply": "2022-09-05T15:39:00.085851Z"
    },
    "papermill": {
     "duration": 0.021745,
     "end_time": "2022-09-05T15:39:00.088794",
     "exception": false,
     "start_time": "2022-09-05T15:39:00.067049",
     "status": "completed"
    },
    "tags": []
   },
   "outputs": [
    {
     "data": {
      "text/plain": [
       "StandardScaler()"
      ]
     },
     "execution_count": 10,
     "metadata": {},
     "output_type": "execute_result"
    }
   ],
   "source": [
    "scaler=StandardScaler()\n",
    "scaler.fit(X)"
   ]
  },
  {
   "cell_type": "code",
   "execution_count": 11,
   "id": "d3958a06",
   "metadata": {
    "execution": {
     "iopub.execute_input": "2022-09-05T15:39:00.104678Z",
     "iopub.status.busy": "2022-09-05T15:39:00.103544Z",
     "iopub.status.idle": "2022-09-05T15:39:00.111284Z",
     "shell.execute_reply": "2022-09-05T15:39:00.110266Z"
    },
    "papermill": {
     "duration": 0.018144,
     "end_time": "2022-09-05T15:39:00.113685",
     "exception": false,
     "start_time": "2022-09-05T15:39:00.095541",
     "status": "completed"
    },
    "tags": []
   },
   "outputs": [],
   "source": [
    "standardized_data=scaler.transform(X)"
   ]
  },
  {
   "cell_type": "code",
   "execution_count": 12,
   "id": "5c20524c",
   "metadata": {
    "execution": {
     "iopub.execute_input": "2022-09-05T15:39:00.129983Z",
     "iopub.status.busy": "2022-09-05T15:39:00.129043Z",
     "iopub.status.idle": "2022-09-05T15:39:00.136541Z",
     "shell.execute_reply": "2022-09-05T15:39:00.135559Z"
    },
    "papermill": {
     "duration": 0.0179,
     "end_time": "2022-09-05T15:39:00.138627",
     "exception": false,
     "start_time": "2022-09-05T15:39:00.120727",
     "status": "completed"
    },
    "tags": []
   },
   "outputs": [
    {
     "data": {
      "text/plain": [
       "array([[ 0.63994726,  0.84832379,  0.14964075, ...,  0.20401277,\n",
       "         0.46849198,  1.4259954 ],\n",
       "       [-0.84488505, -1.12339636, -0.16054575, ..., -0.68442195,\n",
       "        -0.36506078, -0.19067191],\n",
       "       [ 1.23388019,  1.94372388, -0.26394125, ..., -1.10325546,\n",
       "         0.60439732, -0.10558415],\n",
       "       ...,\n",
       "       [ 0.3429808 ,  0.00330087,  0.14964075, ..., -0.73518964,\n",
       "        -0.68519336, -0.27575966],\n",
       "       [-0.84488505,  0.1597866 , -0.47073225, ..., -0.24020459,\n",
       "        -0.37110101,  1.17073215],\n",
       "       [-0.84488505, -0.8730192 ,  0.04624525, ..., -0.20212881,\n",
       "        -0.47378505, -0.87137393]])"
      ]
     },
     "execution_count": 12,
     "metadata": {},
     "output_type": "execute_result"
    }
   ],
   "source": [
    "standardized_data"
   ]
  },
  {
   "cell_type": "code",
   "execution_count": 13,
   "id": "e9842333",
   "metadata": {
    "execution": {
     "iopub.execute_input": "2022-09-05T15:39:00.155291Z",
     "iopub.status.busy": "2022-09-05T15:39:00.154555Z",
     "iopub.status.idle": "2022-09-05T15:39:00.159176Z",
     "shell.execute_reply": "2022-09-05T15:39:00.158187Z"
    },
    "papermill": {
     "duration": 0.016099,
     "end_time": "2022-09-05T15:39:00.161725",
     "exception": false,
     "start_time": "2022-09-05T15:39:00.145626",
     "status": "completed"
    },
    "tags": []
   },
   "outputs": [],
   "source": [
    "X=standardized_data\n",
    "Y=diabetes_data['Outcome']"
   ]
  },
  {
   "cell_type": "code",
   "execution_count": 14,
   "id": "ef471ec8",
   "metadata": {
    "execution": {
     "iopub.execute_input": "2022-09-05T15:39:00.178956Z",
     "iopub.status.busy": "2022-09-05T15:39:00.178263Z",
     "iopub.status.idle": "2022-09-05T15:39:00.185765Z",
     "shell.execute_reply": "2022-09-05T15:39:00.184548Z"
    },
    "papermill": {
     "duration": 0.019203,
     "end_time": "2022-09-05T15:39:00.188202",
     "exception": false,
     "start_time": "2022-09-05T15:39:00.168999",
     "status": "completed"
    },
    "tags": []
   },
   "outputs": [
    {
     "name": "stdout",
     "output_type": "stream",
     "text": [
      "[[ 0.63994726  0.84832379  0.14964075 ...  0.20401277  0.46849198\n",
      "   1.4259954 ]\n",
      " [-0.84488505 -1.12339636 -0.16054575 ... -0.68442195 -0.36506078\n",
      "  -0.19067191]\n",
      " [ 1.23388019  1.94372388 -0.26394125 ... -1.10325546  0.60439732\n",
      "  -0.10558415]\n",
      " ...\n",
      " [ 0.3429808   0.00330087  0.14964075 ... -0.73518964 -0.68519336\n",
      "  -0.27575966]\n",
      " [-0.84488505  0.1597866  -0.47073225 ... -0.24020459 -0.37110101\n",
      "   1.17073215]\n",
      " [-0.84488505 -0.8730192   0.04624525 ... -0.20212881 -0.47378505\n",
      "  -0.87137393]]\n",
      "0      1\n",
      "1      0\n",
      "2      1\n",
      "3      0\n",
      "4      1\n",
      "      ..\n",
      "763    0\n",
      "764    0\n",
      "765    0\n",
      "766    1\n",
      "767    0\n",
      "Name: Outcome, Length: 768, dtype: int64\n"
     ]
    }
   ],
   "source": [
    "print(X)\n",
    "print(Y)"
   ]
  },
  {
   "cell_type": "code",
   "execution_count": 15,
   "id": "fcbc79f3",
   "metadata": {
    "execution": {
     "iopub.execute_input": "2022-09-05T15:39:00.204385Z",
     "iopub.status.busy": "2022-09-05T15:39:00.203696Z",
     "iopub.status.idle": "2022-09-05T15:39:00.215206Z",
     "shell.execute_reply": "2022-09-05T15:39:00.213871Z"
    },
    "papermill": {
     "duration": 0.022363,
     "end_time": "2022-09-05T15:39:00.217601",
     "exception": false,
     "start_time": "2022-09-05T15:39:00.195238",
     "status": "completed"
    },
    "tags": []
   },
   "outputs": [
    {
     "name": "stdout",
     "output_type": "stream",
     "text": [
      "(768, 8) (614, 8) (154, 8)\n"
     ]
    }
   ],
   "source": [
    "X_train, X_test, Y_train, Y_test= train_test_split(X,Y, test_size=0.2, stratify=Y, random_state=2)\n",
    "print(X.shape, X_train.shape, X_test.shape)"
   ]
  },
  {
   "cell_type": "code",
   "execution_count": 16,
   "id": "4777eb0d",
   "metadata": {
    "execution": {
     "iopub.execute_input": "2022-09-05T15:39:00.234016Z",
     "iopub.status.busy": "2022-09-05T15:39:00.233350Z",
     "iopub.status.idle": "2022-09-05T15:39:00.238413Z",
     "shell.execute_reply": "2022-09-05T15:39:00.237511Z"
    },
    "papermill": {
     "duration": 0.015808,
     "end_time": "2022-09-05T15:39:00.240588",
     "exception": false,
     "start_time": "2022-09-05T15:39:00.224780",
     "status": "completed"
    },
    "tags": []
   },
   "outputs": [],
   "source": [
    "classifier=svm.SVC(kernel='linear')"
   ]
  },
  {
   "cell_type": "code",
   "execution_count": 17,
   "id": "e6a13f1f",
   "metadata": {
    "execution": {
     "iopub.execute_input": "2022-09-05T15:39:00.257275Z",
     "iopub.status.busy": "2022-09-05T15:39:00.256605Z",
     "iopub.status.idle": "2022-09-05T15:39:00.278152Z",
     "shell.execute_reply": "2022-09-05T15:39:00.276939Z"
    },
    "papermill": {
     "duration": 0.032876,
     "end_time": "2022-09-05T15:39:00.280588",
     "exception": false,
     "start_time": "2022-09-05T15:39:00.247712",
     "status": "completed"
    },
    "tags": []
   },
   "outputs": [
    {
     "data": {
      "text/plain": [
       "SVC(kernel='linear')"
      ]
     },
     "execution_count": 17,
     "metadata": {},
     "output_type": "execute_result"
    }
   ],
   "source": [
    "classifier.fit(X_train, Y_train)"
   ]
  },
  {
   "cell_type": "code",
   "execution_count": 18,
   "id": "0138868f",
   "metadata": {
    "execution": {
     "iopub.execute_input": "2022-09-05T15:39:00.296748Z",
     "iopub.status.busy": "2022-09-05T15:39:00.296323Z",
     "iopub.status.idle": "2022-09-05T15:39:00.307741Z",
     "shell.execute_reply": "2022-09-05T15:39:00.306648Z"
    },
    "papermill": {
     "duration": 0.02218,
     "end_time": "2022-09-05T15:39:00.310147",
     "exception": false,
     "start_time": "2022-09-05T15:39:00.287967",
     "status": "completed"
    },
    "tags": []
   },
   "outputs": [],
   "source": [
    "X_train_prediction=classifier.predict(X_train)\n",
    "training_data_accuracy=accuracy_score(X_train_prediction, Y_train)"
   ]
  },
  {
   "cell_type": "code",
   "execution_count": 19,
   "id": "9284db76",
   "metadata": {
    "execution": {
     "iopub.execute_input": "2022-09-05T15:39:00.326681Z",
     "iopub.status.busy": "2022-09-05T15:39:00.326252Z",
     "iopub.status.idle": "2022-09-05T15:39:00.331440Z",
     "shell.execute_reply": "2022-09-05T15:39:00.330587Z"
    },
    "papermill": {
     "duration": 0.016309,
     "end_time": "2022-09-05T15:39:00.333675",
     "exception": false,
     "start_time": "2022-09-05T15:39:00.317366",
     "status": "completed"
    },
    "tags": []
   },
   "outputs": [
    {
     "name": "stdout",
     "output_type": "stream",
     "text": [
      "Accuracy score of the training data: 0.7866449511400652\n"
     ]
    }
   ],
   "source": [
    "print('Accuracy score of the training data:',training_data_accuracy)"
   ]
  },
  {
   "cell_type": "code",
   "execution_count": 20,
   "id": "c596c64a",
   "metadata": {
    "execution": {
     "iopub.execute_input": "2022-09-05T15:39:00.350779Z",
     "iopub.status.busy": "2022-09-05T15:39:00.349987Z",
     "iopub.status.idle": "2022-09-05T15:39:00.358251Z",
     "shell.execute_reply": "2022-09-05T15:39:00.357080Z"
    },
    "papermill": {
     "duration": 0.020129,
     "end_time": "2022-09-05T15:39:00.361097",
     "exception": false,
     "start_time": "2022-09-05T15:39:00.340968",
     "status": "completed"
    },
    "tags": []
   },
   "outputs": [
    {
     "name": "stdout",
     "output_type": "stream",
     "text": [
      "Accuracy score of the testing data: 0.7727272727272727\n"
     ]
    }
   ],
   "source": [
    "X_test_prediction=classifier.predict(X_test)\n",
    "testing_data_accuracy=accuracy_score(X_test_prediction, Y_test)\n",
    "print('Accuracy score of the testing data:',testing_data_accuracy)"
   ]
  },
  {
   "cell_type": "code",
   "execution_count": 21,
   "id": "69f6bfda",
   "metadata": {
    "execution": {
     "iopub.execute_input": "2022-09-05T15:39:00.378362Z",
     "iopub.status.busy": "2022-09-05T15:39:00.377657Z",
     "iopub.status.idle": "2022-09-05T15:39:00.391324Z",
     "shell.execute_reply": "2022-09-05T15:39:00.389450Z"
    },
    "papermill": {
     "duration": 0.024981,
     "end_time": "2022-09-05T15:39:00.393733",
     "exception": false,
     "start_time": "2022-09-05T15:39:00.368752",
     "status": "completed"
    },
    "tags": []
   },
   "outputs": [
    {
     "name": "stdout",
     "output_type": "stream",
     "text": [
      "[[-0.84488505 -1.12339636 -0.16054575  0.53090156 -0.69289057 -0.68442195\n",
      "  -0.36506078 -0.19067191]]\n",
      "The person is not diabetic\n"
     ]
    },
    {
     "name": "stderr",
     "output_type": "stream",
     "text": [
      "/opt/conda/lib/python3.7/site-packages/sklearn/base.py:451: UserWarning: X does not have valid feature names, but StandardScaler was fitted with feature names\n",
      "  \"X does not have valid feature names, but\"\n"
     ]
    }
   ],
   "source": [
    "input_data=(1,85,66,29,0,26.6,0.351,31)\n",
    "input_data_as_numpy_array=np.asarray(input_data)\n",
    "input_data_reshaped=input_data_as_numpy_array.reshape(1,-1)\n",
    "std_data=scaler.transform(input_data_reshaped)\n",
    "print(std_data)\n",
    "prediction=classifier.predict(std_data)\n",
    "prediction\n",
    "if(prediction[0]==0):\n",
    "    print('The person is not diabetic')\n",
    "else:\n",
    "    print('The person is diabetic')"
   ]
  }
 ],
 "metadata": {
  "kernelspec": {
   "display_name": "Python 3",
   "language": "python",
   "name": "python3"
  },
  "language_info": {
   "codemirror_mode": {
    "name": "ipython",
    "version": 3
   },
   "file_extension": ".py",
   "mimetype": "text/x-python",
   "name": "python",
   "nbconvert_exporter": "python",
   "pygments_lexer": "ipython3",
   "version": "3.7.12"
  },
  "papermill": {
   "default_parameters": {},
   "duration": 11.362939,
   "end_time": "2022-09-05T15:39:01.123372",
   "environment_variables": {},
   "exception": null,
   "input_path": "__notebook__.ipynb",
   "output_path": "__notebook__.ipynb",
   "parameters": {},
   "start_time": "2022-09-05T15:38:49.760433",
   "version": "2.3.4"
  }
 },
 "nbformat": 4,
 "nbformat_minor": 5
}
